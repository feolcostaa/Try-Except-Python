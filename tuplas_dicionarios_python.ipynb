{
  "cells": [
    {
      "cell_type": "markdown",
      "metadata": {
        "id": "view-in-github",
        "colab_type": "text"
      },
      "source": [
        "<a href=\"https://colab.research.google.com/github/feolcostaa/Senai/blob/main/tuplas_dicionarios_python.ipynb\" target=\"_parent\"><img src=\"https://colab.research.google.com/assets/colab-badge.svg\" alt=\"Open In Colab\"/></a>"
      ]
    },
    {
      "cell_type": "code",
      "execution_count": null,
      "id": "78e3d777",
      "metadata": {
        "id": "78e3d777"
      },
      "outputs": [],
      "source": [
        "aluno = {\n",
        "    \"nome\": \"Lucas\",\n",
        "    \"idade\": 17,\n",
        "    \"cursos\": (\"Matemática\", \"Python Básico\")\n",
        "}\n",
        "print(\"Dados do aluno:\", aluno)\n",
        "print(\"Segundo curso:\", aluno[\"cursos\"][1])"
      ]
    },
    {
      "cell_type": "code",
      "execution_count": null,
      "id": "ea7fc89e",
      "metadata": {
        "id": "ea7fc89e"
      },
      "outputs": [],
      "source": [
        "print(\"Nome do aluno:\", aluno[\"nome\"])\n",
        "print(\"Primeiro curso:\", aluno[\"cursos\"][0])"
      ]
    },
    {
      "cell_type": "code",
      "execution_count": null,
      "id": "16f6172a",
      "metadata": {
        "id": "16f6172a"
      },
      "outputs": [],
      "source": [
        "aluno[\"idade\"] = 18\n",
        "aluno[\"disciplinas_favoritas\"] = (\"Python\", \"Algoritmos\")\n",
        "print(\"Dicionário atualizado:\", aluno)"
      ]
    },
    {
      "cell_type": "code",
      "execution_count": null,
      "id": "60ec3e73",
      "metadata": {
        "id": "60ec3e73"
      },
      "outputs": [],
      "source": [
        "nota = aluno.get(\"nota_final\", \"Nota ainda não cadastrada.\")\n",
        "print(\"Nota final:\", nota)"
      ]
    },
    {
      "cell_type": "code",
      "execution_count": null,
      "id": "6e076c28",
      "metadata": {
        "id": "6e076c28"
      },
      "outputs": [],
      "source": [
        "del aluno[\"disciplinas_favoritas\"]\n",
        "print(\"Dicionário sem disciplinas favoritas:\", aluno)"
      ]
    },
    {
      "cell_type": "code",
      "execution_count": null,
      "id": "95aaf425",
      "metadata": {
        "id": "95aaf425"
      },
      "outputs": [],
      "source": [
        "produtos = (\"Arroz\", \"Feijão\", \"Macarrão\")\n",
        "compras = {\n",
        "    \"Arroz\": 2,\n",
        "    \"Feijão\": 1,\n",
        "    \"Macarrão\": 3\n",
        "}\n",
        "for produto in produtos:\n",
        "    print(f\"Comprou {compras[produto]} unidades de {produto}\")"
      ]
    },
    {
      "cell_type": "code",
      "execution_count": null,
      "id": "55ff41d4",
      "metadata": {
        "id": "55ff41d4"
      },
      "outputs": [],
      "source": [
        "turma = [\n",
        "    {\"nome\": \"Ana\", \"idade\": 16, \"notas\": (7.5, 8.0)},\n",
        "    {\"nome\": \"Bruno\", \"idade\": 17, \"notas\": (6.0, 7.0)},\n",
        "    {\"nome\": \"Carla\", \"idade\": 16, \"notas\": (9.0, 9.5)}\n",
        "]\n",
        "for aluno in turma:\n",
        "    media = sum(aluno[\"notas\"]) / len(aluno[\"notas\"])\n",
        "    print(f\"{aluno['nome']} - Média: {media:.2f}\")"
      ]
    },
    {
      "cell_type": "code",
      "execution_count": null,
      "id": "af126adc",
      "metadata": {
        "id": "af126adc"
      },
      "outputs": [],
      "source": [
        "soma_total = 0\n",
        "quantidade_notas = 0\n",
        "for aluno in turma:\n",
        "    soma_total += sum(aluno[\"notas\"])\n",
        "    quantidade_notas += len(aluno[\"notas\"])\n",
        "media_geral = soma_total / quantidade_notas\n",
        "print(f\"Média geral da turma: {media_geral:.2f}\")"
      ]
    },
    {
      "cell_type": "code",
      "execution_count": null,
      "id": "550b2d32",
      "metadata": {
        "id": "550b2d32"
      },
      "outputs": [],
      "source": [
        "maior_nota = 0\n",
        "melhor_aluno = \"\"\n",
        "for aluno in turma:\n",
        "    nota_aluno = max(aluno[\"notas\"])\n",
        "    if nota_aluno > maior_nota:\n",
        "        maior_nota = nota_aluno\n",
        "        melhor_aluno = aluno[\"nome\"]\n",
        "print(f\"Maior nota: {maior_nota} - Aluno: {melhor_aluno}\")"
      ]
    },
    {
      "cell_type": "code",
      "execution_count": null,
      "id": "c4a7d88b",
      "metadata": {
        "id": "c4a7d88b",
        "outputId": "1ac74d1c-dd01-4a66-97fb-ffa0a9b3b9f0",
        "colab": {
          "base_uri": "https://localhost:8080/"
        }
      },
      "outputs": [
        {
          "output_type": "stream",
          "name": "stdout",
          "text": [
            "\n",
            "Cadastro de livro\n"
          ]
        }
      ],
      "source": [
        "biblioteca = []\n",
        "\n",
        "while True:\n",
        "    print(\"\\nCadastro de livro\")\n",
        "    titulo = input(\"Título: \")\n",
        "    autor = input(\"Autor: \")\n",
        "    ano = input(\"Ano de publicação: \")\n",
        "\n",
        "    livro = (titulo, autor, ano)\n",
        "    biblioteca.append(livro)\n",
        "\n",
        "    continuar = input(\"Deseja cadastrar outro livro? (s/n): \")\n",
        "    if continuar.lower() != \"s\":\n",
        "        break\n",
        "\n",
        "print(\"\\n📚 Livros cadastrados:\")\n",
        "for livro in biblioteca:\n",
        "    print(f\"Título: {livro[0]}, Autor: {livro[1]}, Ano: {livro[2]}\")"
      ]
    }
  ],
  "metadata": {
    "colab": {
      "provenance": [],
      "include_colab_link": true
    },
    "language_info": {
      "name": "python"
    },
    "kernelspec": {
      "name": "python3",
      "display_name": "Python 3"
    }
  },
  "nbformat": 4,
  "nbformat_minor": 5
}