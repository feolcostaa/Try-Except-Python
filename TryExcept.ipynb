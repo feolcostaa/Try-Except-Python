{
  "nbformat": 4,
  "nbformat_minor": 0,
  "metadata": {
    "colab": {
      "provenance": [],
      "authorship_tag": "ABX9TyOg4cJh9Cc3Ns/XhRuf9i08",
      "include_colab_link": true
    },
    "kernelspec": {
      "name": "python3",
      "display_name": "Python 3"
    },
    "language_info": {
      "name": "python"
    }
  },
  "cells": [
    {
      "cell_type": "markdown",
      "metadata": {
        "id": "view-in-github",
        "colab_type": "text"
      },
      "source": [
        "<a href=\"https://colab.research.google.com/github/feolcostaa/Try-Except-Python/blob/main/TryExcept.ipynb\" target=\"_parent\"><img src=\"https://colab.research.google.com/assets/colab-badge.svg\" alt=\"Open In Colab\"/></a>"
      ]
    },
    {
      "cell_type": "markdown",
      "source": [
        "1. O que ord() faz em Python?\n",
        "\n",
        "A função `ord()` recebe um caractere e retorna o valor numérico correspondente à sua posição na tabela ASCII ou Unicode.\n",
        "\n",
        "2. O que chr() faz em Python?\n",
        "\n",
        "A função `chr()` recebe um valor numérico (um código de caractere) e retorna o caractere correspondente a esse código na tabela ASCII ou Unicode.\n",
        "\n",
        "3. Como transformar uma string em uma lista de letras? (ex: list(\"texto\"))\n",
        "\n",
        "Você pode usar a função list() para transformar uma string em uma lista de caracteres. Exemplo:\n",
        "\n",
        "4. O que são f-strings? Dê um exemplo com variáveis.\n",
        "\n",
        "F-strings (formatted strings) são uma forma de interpolação de strings no Python. Elas permitem embutir expressões dentro de uma string usando {} e prefixando a string com f.\n",
        "\n",
        "5. Como acessar letras específicas de uma string com índice (palavra[0], etc)?\n",
        "\n",
        "Em Python, as strings são indexadas e você pode acessar caracteres específicos usando índices. O índice começa em 0.\n",
        "\n",
        "6. O que acontece se tentarmos acessar uma letra que não existe (ex: palavra[6] em uma palavra com só 4 letras)?\n",
        "\n",
        "Se você tentar acessar um índice fora do intervalo da string (ou seja, um índice maior ou igual ao comprimento da string), ocorrerá um erro do tipo IndexError.\n",
        "\n",
        "7. O que é a tabela ASCII?\n",
        "\n",
        "A tabela ASCII (American Standard Code for Information Interchange) é uma codificação de caracteres usada para representar texto em computadores e dispositivos eletrônicos. Ela mapeia caracteres (letras, números, símbolos, etc.) a valores numéricos inteiros de 0 a 127. Por exemplo, o código ASCII de 'A' é 65, e o código ASCII de 'a' é 97. Existem também extensões da tabela ASCII que abrangem valores de 128 a 255, mas esses são específicos de determinados sistemas."
      ],
      "metadata": {
        "id": "ma78CBuvzt_X"
      }
    },
    {
      "cell_type": "code",
      "source": [
        "palavra1 = input('Digite a primeira palavra: ')\n",
        "palavra2 = input('Digite a segunda palavra: ')\n",
        "palavra3 = input('Digite a terceira palavra: ')\n",
        "\n",
        "try:\n",
        "  ASC1_0 = ord(palavra1[0]) + 1\n",
        "  try:\n",
        "    ASC1_1 = ord(palavra1[1]) + 1\n",
        "    try:\n",
        "      ASC1_2 = ord(palavra1[2]) + 1\n",
        "      try:\n",
        "        ASC1_3 = ord(palavra1[3]) + 1\n",
        "        try:\n",
        "          ASC1_4 = ord(palavra1[4]) + 1\n",
        "          palavra1_codificada = chr(ASC1_0)+chr(ASC1_1)+chr(ASC1_2)+chr(ASC1_3)+chr(ASC1_4)\n",
        "        except:\n",
        "          palavra1_codificada = chr(ASC1_0)+chr(ASC1_1)+chr(ASC1_2)+chr(ASC1_3)\n",
        "      except:\n",
        "        palavra1_codificada = chr(ASC1_0)+chr(ASC1_1)+chr(ASC1_2)\n",
        "    except:\n",
        "        palavra1_codificada = chr(ASC1_0)+chr(ASC1_1)\n",
        "  except:\n",
        "    palavra1_codificada = chr(ASC1_0)\n",
        "except:\n",
        "  palavra1_codificada = ''\n",
        "\n",
        "try:\n",
        "  ASC2_0 = ord(palavra2[0]) + 1\n",
        "  try:\n",
        "    ASC2_1 = ord(palavra2[1]) + 1\n",
        "    try:\n",
        "      ASC2_2 = ord(palavra2[2]) + 1\n",
        "      try:\n",
        "        ASC2_3 = ord(palavra2[3]) + 1\n",
        "        try:\n",
        "          ASC2_4 = ord(palavra2[4]) + 1\n",
        "          palavra2_codificada = chr(ASC2_0)+chr(ASC2_1)+chr(ASC2_2)+chr(ASC2_3)+chr(ASC2_4)\n",
        "        except:\n",
        "          palavra2_codificada = chr(ASC2_0)+chr(ASC2_1)+chr(ASC2_2)+chr(ASC2_3)\n",
        "      except:\n",
        "        palavra2_codificada = chr(ASC2_0)+chr(ASC2_1)+chr(ASC2_2)\n",
        "    except:\n",
        "        palavra2_codificada = chr(ASC2_0)+chr(ASC2_1)\n",
        "  except:\n",
        "    palavra2_codificada = chr(ASC2_0)\n",
        "except:\n",
        "  palavra2_codificada = ''\n",
        "\n",
        "try:\n",
        "  ASC3_0 = ord(palavra3[0]) + 1\n",
        "  try:\n",
        "    ASC3_1 = ord(palavra3[1]) + 1\n",
        "    try:\n",
        "      ASC3_2 = ord(palavra3[2]) + 1\n",
        "      try:\n",
        "        ASC3_3 = ord(palavra3[3]) + 1\n",
        "        try:\n",
        "          ASC3_4 = ord(palavra3[4]) + 1\n",
        "          palavra3_codificada = chr(ASC3_0)+chr(ASC3_1)+chr(ASC3_2)+chr(ASC3_3)+chr(ASC3_4)\n",
        "        except:\n",
        "          palavra3_codificada = chr(ASC3_0)+chr(ASC3_1)+chr(ASC3_2)+chr(ASC3_3)\n",
        "      except:\n",
        "        palavra3_codificada = chr(ASC3_0)+chr(ASC3_1)+chr(ASC3_2)\n",
        "    except:\n",
        "        palavra3_codificada = chr(ASC3_0)+chr(ASC3_1)\n",
        "  except:\n",
        "    palavra3_codificada = chr(ASC3_0)\n",
        "except:\n",
        "  palavra3_codificada = ''\n",
        "\n",
        "print(f'A frase codificada fica: {palavra1_codificada} {palavra2_codificada} {palavra3_codificada}')"
      ],
      "metadata": {
        "colab": {
          "base_uri": "https://localhost:8080/"
        },
        "id": "PPbFsjlX0Y6m",
        "outputId": "0ead2d99-27af-41e0-9e03-0c3a4786126b"
      },
      "execution_count": null,
      "outputs": [
        {
          "output_type": "stream",
          "name": "stdout",
          "text": [
            "Digite a primeira palavra: coisa\n",
            "Digite a segunda palavra: Teste\n",
            "Digite a terceira palavra: teste\n",
            "A frase codificada fica: dpjtb Uftuf uftuf\n"
          ]
        }
      ]
    },
    {
      "cell_type": "code",
      "source": [
        "palavra1_codificada = input('Digite a primeira palavra codificada: ')\n",
        "palavra2_codificada = input('Digite a segunda palavra codificada: ')\n",
        "palavra3_codificada = input('Digite a terceira palavra codificada: ')\n",
        "\n",
        "try:\n",
        "  ASC1_0 = ord(palavra1_codificada[0]) -1\n",
        "  try:\n",
        "    ASC1_1 = ord(palavra1_codificada[1]) - 1\n",
        "    try:\n",
        "      ASC1_2 = ord(palavra1_codificada[2]) - 1\n",
        "      try:\n",
        "        ASC1_3 = ord(palavra1_codificada[3]) - 1\n",
        "        try:\n",
        "          ASC1_4 = ord(palavra1_codificada[4]) - 1\n",
        "          palavra1 = chr(ASC1_0)+chr(ASC1_1)+chr(ASC1_2)+chr(ASC1_3)+chr(ASC1_4)\n",
        "        except:\n",
        "          palavra1 = chr(ASC1_0)+chr(ASC1_1)+chr(ASC1_2)+chr(ASC1_3)\n",
        "      except:\n",
        "        palavra1 = chr(ASC1_0)+chr(ASC1_1)+chr(ASC1_2)\n",
        "    except:\n",
        "        palavra1 = chr(ASC1_0)+chr(ASC1_1)\n",
        "  except:\n",
        "    palavra1 = chr(ASC1_0)\n",
        "except:\n",
        "  palavra1 = ''\n",
        "\n",
        "try:\n",
        "  ASC2_0 = ord(palavra2_codificada[0]) - 1\n",
        "  try:\n",
        "    ASC2_1 = ord(palavra2_codificada[1]) - 1\n",
        "    try:\n",
        "      ASC2_2 = ord(palavra2_codificada[2]) - 1\n",
        "      try:\n",
        "        ASC2_3 = ord(palavra2_codificada[3]) - 1\n",
        "        try:\n",
        "          ASC2_4 = ord(palavra2_codificada[4]) - 1\n",
        "          palavra2 = chr(ASC2_0)+chr(ASC2_1)+chr(ASC2_2)+chr(ASC2_3)+chr(ASC2_4)\n",
        "        except:\n",
        "          palavra2 = chr(ASC2_0)+chr(ASC2_1)+chr(ASC2_2)+chr(ASC2_3)\n",
        "      except:\n",
        "        palavra2 = chr(ASC2_0)+chr(ASC2_1)+chr(ASC2_2)\n",
        "    except:\n",
        "        palavra2 = chr(ASC2_0)+chr(ASC2_1)\n",
        "  except:\n",
        "    palavra2 = chr(ASC2_0)\n",
        "except:\n",
        "  palavra2 = ''\n",
        "\n",
        "try:\n",
        "  ASC3_0 = ord(palavra3_codificada[0]) - 1\n",
        "  try:\n",
        "    ASC3_1 = ord(palavra3_codificada[1]) - 1\n",
        "    try:\n",
        "      ASC3_2 = ord(palavra3_codificada[2]) - 1\n",
        "      try:\n",
        "        ASC3_3 = ord(palavra3_codificada[3]) - 1\n",
        "        try:\n",
        "          ASC3_4 = ord(palavra3_codificada[4]) - 1\n",
        "          palavra3 = chr(ASC3_0)+chr(ASC3_1)+chr(ASC3_2)+chr(ASC3_3)+chr(ASC3_4)\n",
        "        except:\n",
        "          palavra3 = chr(ASC3_0)+chr(ASC3_1)+chr(ASC3_2)+chr(ASC3_3)\n",
        "      except:\n",
        "        palavra3 = chr(ASC3_0)+chr(ASC3_1)+chr(ASC3_2)\n",
        "    except:\n",
        "        palavra3 = chr(ASC3_0)+chr(ASC3_1)\n",
        "  except:\n",
        "    palavra3 = chr(ASC3_0)\n",
        "except:\n",
        "  palavra3 = ''\n",
        "\n",
        "print(f'A frase codificada fica: {palavra1} {palavra2} {palavra3}')"
      ],
      "metadata": {
        "colab": {
          "base_uri": "https://localhost:8080/"
        },
        "id": "Tbx5ygKm8O4P",
        "outputId": "900e7521-8607-4484-c2bd-d035cacf730b"
      },
      "execution_count": null,
      "outputs": [
        {
          "output_type": "stream",
          "name": "stdout",
          "text": [
            "Digite a primeira palavra codificada: dpjtb\n",
            "Digite a segunda palavra codificada: Uftuf\n",
            "Digite a terceira palavra codificada: uftuf\n",
            "A frase codificada fica: coisa Teste teste\n"
          ]
        }
      ]
    }
  ]
}