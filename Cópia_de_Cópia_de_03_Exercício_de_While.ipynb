{
  "cells": [
    {
      "cell_type": "markdown",
      "metadata": {
        "id": "view-in-github",
        "colab_type": "text"
      },
      "source": [
        "<a href=\"https://colab.research.google.com/github/feolcostaa/Senai/blob/main/C%C3%B3pia_de_C%C3%B3pia_de_03_Exerc%C3%ADcio_de_While.ipynb\" target=\"_parent\"><img src=\"https://colab.research.google.com/assets/colab-badge.svg\" alt=\"Open In Colab\"/></a>"
      ]
    },
    {
      "cell_type": "markdown",
      "metadata": {
        "id": "ZKFp66PrOFEX"
      },
      "source": [
        "# Exercícios\n",
        "\n",
        "## 1. Input até o usuário parar\n",
        "\n",
        "Vamos criar um sistema de vendas. Nosso programa deve registrar os produtos e as quantidades (2 inputs) e adicionar em uma lista.\n",
        "\n",
        "O programa deve continuar rodando até o input ser vazio, ou seja, o usuário apertar enter sem digitar nenhum produto ou quantidade.\n",
        "\n",
        "Ao final do programa, ele deve printar todos os produtos e quantidades vendidas.\n",
        "\n",
        "Obs: Caso queira, para o print ficar mais visual, pode usar o join para cada item ser printado em uma linha.\n",
        "Sugestão para sua lista de produtos vendidos:"
      ]
    },
    {
      "cell_type": "raw",
      "metadata": {
        "id": "aift-VRLOFEa"
      },
      "source": [
        "vendas = [\n",
        "    ['maçã', 5],\n",
        "    ['banana', 15],\n",
        "    ['azeite', 1],\n",
        "    ['vinho', 3],\n",
        "]"
      ]
    },
    {
      "cell_type": "code",
      "execution_count": null,
      "metadata": {
        "id": "kVKtMg-cOFEa",
        "colab": {
          "base_uri": "https://localhost:8080/"
        },
        "outputId": "2cecf06d-01a9-4fa5-d18f-1ffea5b00b4f"
      },
      "outputs": [
        {
          "output_type": "stream",
          "name": "stdout",
          "text": [
            "Qual o produto? agua\n",
            "Qual a quantidade? 3\n",
            "Qual o produto? coca\n",
            "Qual a quantidade? 4\n",
            "Qual o produto? \n",
            "[['agua', '3'], ['coca', '4']]\n"
          ]
        }
      ],
      "source": [
        "vendas = []\n",
        "\n",
        "while True:\n",
        "    produto = input('Qual o produto? ')\n",
        "    if not produto:\n",
        "        break\n",
        "    quantidade = input('Qual a quantidade? ')\n",
        "    vendas.append([produto, quantidade])\n",
        "print(vendas)\n"
      ]
    },
    {
      "cell_type": "markdown",
      "source": [
        "## **2 - Dados Viciados**\n",
        "Descrição:\n",
        "Crie um simulador de dados com 6 faces que o usuário pode jogar digitando \"jogar\". Mas... tem um detalhe! O dado sempre favorece o número 6.\n",
        "\n",
        "Regras:\n",
        "\n",
        "Use um loop while para continuar jogando até o usuário digitar \"sair\".\n",
        "\n",
        "Mostre o número \"sorteado\".\n",
        "\n",
        "Faça o número 6 aparecer com mais frequência que os outros.\n",
        "\n"
      ],
      "metadata": {
        "id": "AemouudlOh3W"
      }
    },
    {
      "cell_type": "markdown",
      "source": [],
      "metadata": {
        "id": "vU8hk0_cOuy8"
      }
    },
    {
      "cell_type": "code",
      "source": [
        "import random\n",
        "\n",
        "palavra = input('Digite jogar: ')\n",
        "números = [1, 2, 3, 4, 5, 6, 6, 6, 6, 6]\n",
        "\n",
        "if palavra == 'jogar':\n",
        "  while (palavra != 'sair'):\n",
        "    print(random.choice(números))\n",
        "    palavra = input('Deseja continuar?')"
      ],
      "metadata": {
        "id": "ZQMIOVJ-Ovbj",
        "colab": {
          "base_uri": "https://localhost:8080/"
        },
        "outputId": "da20f293-11d3-46d2-eb6a-f4cdd451209a"
      },
      "execution_count": 2,
      "outputs": [
        {
          "name": "stdout",
          "output_type": "stream",
          "text": [
            "Digite jogar: jogar\n",
            "6\n",
            "Deseja continuar?sim\n",
            "6\n",
            "Deseja continuar?sim\n",
            "2\n",
            "Deseja continuar?sim\n",
            "2\n",
            "Deseja continuar?sim\n",
            "5\n",
            "Deseja continuar?sim\n",
            "4\n",
            "Deseja continuar?sim\n",
            "3\n",
            "Deseja continuar?sim\n",
            "2\n",
            "Deseja continuar?sim\n",
            "6\n",
            "Deseja continuar?sair\n"
          ]
        }
      ]
    },
    {
      "cell_type": "markdown",
      "source": [
        "### **3 - Quiz Interativo**\n",
        "Descrição:\n",
        "Monte um pequeno quiz com perguntas e múltiplas alternativas.\n",
        "\n",
        "Regras:\n",
        "\n",
        "O programa faz 3 a 5 perguntas com 3 opções cada.\n",
        "\n",
        "O jogador digita a letra da resposta (a, b, c).\n",
        "\n",
        "No final, mostre quantas ele acertou."
      ],
      "metadata": {
        "id": "Z9QuTDvOOwRT"
      }
    },
    {
      "cell_type": "code",
      "source": [
        "import random\n",
        "\n",
        "perguntas = [\n",
        "    {\n",
        "        \"pergunta\": \"Qual a capital do Brasil?\",\n",
        "        \"opcoes\": [\"a) São Paulo\", \"b) Rio de Janeiro\", \"c) Brasília\"],\n",
        "        \"resposta\": \"c\"\n",
        "    },\n",
        "    {\n",
        "        \"pergunta\": \"Qual o maior planeta do sistema solar?\",\n",
        "        \"opcoes\": [\"a) Marte\", \"b) Júpiter\", \"c) Vênus\"],\n",
        "        \"resposta\": \"b\"\n",
        "    },\n",
        "    {\n",
        "        \"pergunta\": \"Quem pintou a Mona Lisa?\",\n",
        "        \"opcoes\": [\"a) Michelangelo\", \"b) Leonardo da Vinci\", \"c) Rafael\"],\n",
        "        \"resposta\": \"b\"\n",
        "    },\n",
        "    {\n",
        "        \"pergunta\": \"Qual o metal mais abundante na crosta terrestre?\",\n",
        "        \"opcoes\": [\"a) Ouro\", \"b) Prata\", \"c) Alumínio\"],\n",
        "        \"resposta\": \"c\"\n",
        "    },\n",
        "    {\n",
        "        \"pergunta\": \"Qual o maior oceano do mundo?\",\n",
        "        \"opcoes\": [\"a) Oceano Índico\", \"b) Oceano Atlântico\", \"c) Oceano Pacífico\"],\n",
        "        \"resposta\": \"c\"\n",
        "    }\n",
        "]\n",
        "\n",
        "random.shuffle(perguntas)\n",
        "num_perguntas = random.randint(3, 5)\n",
        "acertos = 0\n",
        "\n",
        "for i in range(num_perguntas):\n",
        "    print(perguntas[i][\"pergunta\"])\n",
        "    for opcao in perguntas[i][\"opcoes\"]:\n",
        "        print(opcao)\n",
        "    resposta_usuario = input(\"Sua resposta (a, b ou c): \").lower()\n",
        "    if resposta_usuario == perguntas[i][\"resposta\"]:\n",
        "        print(\"Correto!\")\n",
        "        acertos += 1\n",
        "    else:\n",
        "        print(f\"Errado! A resposta correta é {perguntas[i]['resposta']}.\")\n",
        "    print()\n",
        "\n",
        "print(f\"Você acertou {acertos} de {num_perguntas} perguntas.\")\n"
      ],
      "metadata": {
        "colab": {
          "base_uri": "https://localhost:8080/",
          "height": 912
        },
        "id": "rzxh_IY_67Pm",
        "outputId": "2c7f5512-ebdc-4abc-8a40-ab9808326810"
      },
      "execution_count": 10,
      "outputs": [
        {
          "output_type": "stream",
          "name": "stdout",
          "text": [
            "Quem pintou a Mona Lisa?\n",
            "a) Michelangelo\n",
            "b) Leonardo da Vinci\n",
            "c) Rafael\n",
            "Sua resposta (a, b ou c): a\n",
            "Errado! A resposta correta é b.\n",
            "\n",
            "Qual a capital do Brasil?\n",
            "a) São Paulo\n",
            "b) Rio de Janeiro\n",
            "c) Brasília\n",
            "Sua resposta (a, b ou c): b\n",
            "Errado! A resposta correta é c.\n",
            "\n",
            "Qual o maior planeta do sistema solar?\n",
            "a) Marte\n",
            "b) Júpiter\n",
            "c) Vênus\n",
            "Sua resposta (a, b ou c): c\n",
            "Errado! A resposta correta é b.\n",
            "\n",
            "Qual o metal mais abundante na crosta terrestre?\n",
            "a) Ouro\n",
            "b) Prata\n",
            "c) Alumínio\n",
            "Sua resposta (a, b ou c): a\n",
            "Errado! A resposta correta é c.\n",
            "\n",
            "Qual o maior oceano do mundo?\n",
            "a) Oceano Índico\n",
            "b) Oceano Atlântico\n",
            "c) Oceano Pacífico\n"
          ]
        },
        {
          "output_type": "error",
          "ename": "KeyboardInterrupt",
          "evalue": "Interrupted by user",
          "traceback": [
            "\u001b[0;31m---------------------------------------------------------------------------\u001b[0m",
            "\u001b[0;31mKeyboardInterrupt\u001b[0m                         Traceback (most recent call last)",
            "\u001b[0;32m<ipython-input-10-242cfd09037d>\u001b[0m in \u001b[0;36m<cell line: 0>\u001b[0;34m()\u001b[0m\n\u001b[1;32m     37\u001b[0m     \u001b[0;32mfor\u001b[0m \u001b[0mopcao\u001b[0m \u001b[0;32min\u001b[0m \u001b[0mperguntas\u001b[0m\u001b[0;34m[\u001b[0m\u001b[0mi\u001b[0m\u001b[0;34m]\u001b[0m\u001b[0;34m[\u001b[0m\u001b[0;34m\"opcoes\"\u001b[0m\u001b[0;34m]\u001b[0m\u001b[0;34m:\u001b[0m\u001b[0;34m\u001b[0m\u001b[0;34m\u001b[0m\u001b[0m\n\u001b[1;32m     38\u001b[0m         \u001b[0mprint\u001b[0m\u001b[0;34m(\u001b[0m\u001b[0mopcao\u001b[0m\u001b[0;34m)\u001b[0m\u001b[0;34m\u001b[0m\u001b[0;34m\u001b[0m\u001b[0m\n\u001b[0;32m---> 39\u001b[0;31m     \u001b[0mresposta_usuario\u001b[0m \u001b[0;34m=\u001b[0m \u001b[0minput\u001b[0m\u001b[0;34m(\u001b[0m\u001b[0;34m\"Sua resposta (a, b ou c): \"\u001b[0m\u001b[0;34m)\u001b[0m\u001b[0;34m.\u001b[0m\u001b[0mlower\u001b[0m\u001b[0;34m(\u001b[0m\u001b[0;34m)\u001b[0m\u001b[0;34m\u001b[0m\u001b[0;34m\u001b[0m\u001b[0m\n\u001b[0m\u001b[1;32m     40\u001b[0m     \u001b[0;32mif\u001b[0m \u001b[0mresposta_usuario\u001b[0m \u001b[0;34m==\u001b[0m \u001b[0mperguntas\u001b[0m\u001b[0;34m[\u001b[0m\u001b[0mi\u001b[0m\u001b[0;34m]\u001b[0m\u001b[0;34m[\u001b[0m\u001b[0;34m\"resposta\"\u001b[0m\u001b[0;34m]\u001b[0m\u001b[0;34m:\u001b[0m\u001b[0;34m\u001b[0m\u001b[0;34m\u001b[0m\u001b[0m\n\u001b[1;32m     41\u001b[0m         \u001b[0mprint\u001b[0m\u001b[0;34m(\u001b[0m\u001b[0;34m\"Correto!\"\u001b[0m\u001b[0;34m)\u001b[0m\u001b[0;34m\u001b[0m\u001b[0;34m\u001b[0m\u001b[0m\n",
            "\u001b[0;32m/usr/local/lib/python3.11/dist-packages/ipykernel/kernelbase.py\u001b[0m in \u001b[0;36mraw_input\u001b[0;34m(self, prompt)\u001b[0m\n\u001b[1;32m   1175\u001b[0m                 \u001b[0;34m\"raw_input was called, but this frontend does not support input requests.\"\u001b[0m\u001b[0;34m\u001b[0m\u001b[0;34m\u001b[0m\u001b[0m\n\u001b[1;32m   1176\u001b[0m             )\n\u001b[0;32m-> 1177\u001b[0;31m         return self._input_request(\n\u001b[0m\u001b[1;32m   1178\u001b[0m             \u001b[0mstr\u001b[0m\u001b[0;34m(\u001b[0m\u001b[0mprompt\u001b[0m\u001b[0;34m)\u001b[0m\u001b[0;34m,\u001b[0m\u001b[0;34m\u001b[0m\u001b[0;34m\u001b[0m\u001b[0m\n\u001b[1;32m   1179\u001b[0m             \u001b[0mself\u001b[0m\u001b[0;34m.\u001b[0m\u001b[0m_parent_ident\u001b[0m\u001b[0;34m[\u001b[0m\u001b[0;34m\"shell\"\u001b[0m\u001b[0;34m]\u001b[0m\u001b[0;34m,\u001b[0m\u001b[0;34m\u001b[0m\u001b[0;34m\u001b[0m\u001b[0m\n",
            "\u001b[0;32m/usr/local/lib/python3.11/dist-packages/ipykernel/kernelbase.py\u001b[0m in \u001b[0;36m_input_request\u001b[0;34m(self, prompt, ident, parent, password)\u001b[0m\n\u001b[1;32m   1217\u001b[0m             \u001b[0;32mexcept\u001b[0m \u001b[0mKeyboardInterrupt\u001b[0m\u001b[0;34m:\u001b[0m\u001b[0;34m\u001b[0m\u001b[0;34m\u001b[0m\u001b[0m\n\u001b[1;32m   1218\u001b[0m                 \u001b[0;31m# re-raise KeyboardInterrupt, to truncate traceback\u001b[0m\u001b[0;34m\u001b[0m\u001b[0;34m\u001b[0m\u001b[0m\n\u001b[0;32m-> 1219\u001b[0;31m                 \u001b[0;32mraise\u001b[0m \u001b[0mKeyboardInterrupt\u001b[0m\u001b[0;34m(\u001b[0m\u001b[0;34m\"Interrupted by user\"\u001b[0m\u001b[0;34m)\u001b[0m \u001b[0;32mfrom\u001b[0m \u001b[0;32mNone\u001b[0m\u001b[0;34m\u001b[0m\u001b[0;34m\u001b[0m\u001b[0m\n\u001b[0m\u001b[1;32m   1220\u001b[0m             \u001b[0;32mexcept\u001b[0m \u001b[0mException\u001b[0m\u001b[0;34m:\u001b[0m\u001b[0;34m\u001b[0m\u001b[0;34m\u001b[0m\u001b[0m\n\u001b[1;32m   1221\u001b[0m                 \u001b[0mself\u001b[0m\u001b[0;34m.\u001b[0m\u001b[0mlog\u001b[0m\u001b[0;34m.\u001b[0m\u001b[0mwarning\u001b[0m\u001b[0;34m(\u001b[0m\u001b[0;34m\"Invalid Message:\"\u001b[0m\u001b[0;34m,\u001b[0m \u001b[0mexc_info\u001b[0m\u001b[0;34m=\u001b[0m\u001b[0;32mTrue\u001b[0m\u001b[0;34m)\u001b[0m\u001b[0;34m\u001b[0m\u001b[0;34m\u001b[0m\u001b[0m\n",
            "\u001b[0;31mKeyboardInterrupt\u001b[0m: Interrupted by user"
          ]
        }
      ]
    },
    {
      "cell_type": "markdown",
      "source": [
        "### **🕵️‍♀️ Desafio de Lógica: Crie o Jogo da Forca!**\n",
        "🎮 Contexto:\n",
        "Você foi contratado por uma empresa de jogos retrô para desenvolver uma versão digital do clássico Jogo da Forca. Seu desafio é programar esse jogo usando o que você aprendeu até agora: laços for e while, listas, strings, variáveis e condicionais.\n",
        "\n",
        "A ideia é criar um jogo totalmente jogável pelo terminal, onde o jogador deve adivinhar uma palavra secreta chutando letras, uma de cada vez. Se errar demais, perde. Se acertar tudo, vence!\n",
        "\n",
        "🧩 O que seu jogo deve fazer:\n",
        "Escolher uma palavra secreta (você pode definir uma fixa por enquanto).\n",
        "\n",
        "Mostrar ao jogador os espaços da palavra como \"_\" (uma para cada letra).\n",
        "\n",
        "Permitir que o jogador chute uma letra por vez.\n",
        "\n",
        "Revelar as letras corretas no lugar certo.\n",
        "\n",
        "Diminuir o número de tentativas a cada erro.\n",
        "\n",
        "Encerrar o jogo com uma mensagem de vitória ou derrota.\n",
        "\n",
        "💡 Regras do jogo:\n",
        "O jogador tem um número limitado de tentativas.\n",
        "\n",
        "O jogo acaba quando o jogador acerta todas as letras ou quando errar demais.\n",
        "\n",
        "O jogo deve rodar em loop, pedindo novas letras enquanto o jogo não terminar.\n",
        "\n",
        "🧠 Dica de pensamento lógico:\n",
        "Como você pode mostrar a palavra sendo \"revelada\" aos poucos?\n",
        "\n",
        "Como controlar o número de tentativas?\n",
        "\n",
        "Como repetir a checagem da letra com um loop?\n",
        "\n",
        "🏁 Objetivo final:\n",
        "Crie uma experiência simples e divertida! Quando terminar, teste com colegas: será que eles conseguem adivinhar a palavra que você escolheu?\n",
        "\n"
      ],
      "metadata": {
        "id": "E2z98DkROKq0"
      }
    },
    {
      "cell_type": "code",
      "source": [
        "palavra_secreta = \"python\"\n",
        "letras_certas = [\"_\"] * len(palavra_secreta)\n",
        "tentativas = 6\n",
        "letras_erradas = []\n",
        "\n",
        "while tentativas > 0 and \"_\" in letras_certas:\n",
        "    print(\"Palavra:\", \" \".join(letras_certas))\n",
        "    print(\"Tentativas restantes:\", tentativas)\n",
        "    print(\"Letras erradas:\", \", \".join(letras_erradas))\n",
        "    chute = input(\"Digite uma letra: \").lower()\n",
        "\n",
        "    if len(chute) != 1 or not chute.isalpha():\n",
        "        print(\"Chute inválido. Digite apenas uma letra.\")\n",
        "        continue\n",
        "\n",
        "    if chute in letras_certas or chute in letras_erradas:\n",
        "        print(\"Você já tentou essa letra. Tente outra.\")\n",
        "        continue\n",
        "\n",
        "    if chute in palavra_secreta:\n",
        "        for i in range(len(palavra_secreta)):\n",
        "            if palavra_secreta[i] == chute:\n",
        "                letras_certas[i] = chute\n",
        "    else:\n",
        "        tentativas -= 1\n",
        "        letras_erradas.append(chute)\n",
        "        print(\"Letra incorreta.\")\n",
        "\n",
        "    if \"_\" not in letras_certas:\n",
        "        print(\"Parabéns! Você venceu! A palavra era:\", palavra_secreta)\n",
        "        break\n",
        "else:\n",
        "    print(\"Você perdeu! A palavra era:\", palavra_secreta)"
      ],
      "metadata": {
        "id": "lOpKdL8lOOnj",
        "colab": {
          "base_uri": "https://localhost:8080/"
        },
        "outputId": "37af1ad7-7014-4b2f-c239-cabd91ebae90"
      },
      "execution_count": 13,
      "outputs": [
        {
          "output_type": "stream",
          "name": "stdout",
          "text": [
            "Palavra: _ _ _ _ _ _\n",
            "Tentativas restantes: 6\n",
            "Letras erradas: \n",
            "Digite uma letra: PYTHON\n",
            "Chute inválido. Digite apenas uma letra.\n",
            "Palavra: _ _ _ _ _ _\n",
            "Tentativas restantes: 6\n",
            "Letras erradas: \n",
            "Digite uma letra: python\n",
            "Chute inválido. Digite apenas uma letra.\n",
            "Palavra: _ _ _ _ _ _\n",
            "Tentativas restantes: 6\n",
            "Letras erradas: \n",
            "Digite uma letra: a\n",
            "Letra incorreta.\n",
            "Palavra: _ _ _ _ _ _\n",
            "Tentativas restantes: 5\n",
            "Letras erradas: a\n",
            "Digite uma letra: l\n",
            "Letra incorreta.\n",
            "Palavra: _ _ _ _ _ _\n",
            "Tentativas restantes: 4\n",
            "Letras erradas: a, l\n",
            "Digite uma letra: p\n",
            "Palavra: p _ _ _ _ _\n",
            "Tentativas restantes: 4\n",
            "Letras erradas: a, l\n",
            "Digite uma letra: y\n",
            "Palavra: p y _ _ _ _\n",
            "Tentativas restantes: 4\n",
            "Letras erradas: a, l\n",
            "Digite uma letra: t\n",
            "Palavra: p y t _ _ _\n",
            "Tentativas restantes: 4\n",
            "Letras erradas: a, l\n",
            "Digite uma letra: h\n",
            "Palavra: p y t h _ _\n",
            "Tentativas restantes: 4\n",
            "Letras erradas: a, l\n",
            "Digite uma letra: o\n",
            "Palavra: p y t h o _\n",
            "Tentativas restantes: 4\n",
            "Letras erradas: a, l\n",
            "Digite uma letra: n\n",
            "Parabéns! Você venceu! A palavra era: python\n"
          ]
        }
      ]
    },
    {
      "cell_type": "markdown",
      "source": [],
      "metadata": {
        "id": "PyWuN2R9OO0i"
      }
    }
  ],
  "metadata": {
    "kernelspec": {
      "display_name": "Python 3",
      "language": "python",
      "name": "python3"
    },
    "language_info": {
      "codemirror_mode": {
        "name": "ipython",
        "version": 3
      },
      "file_extension": ".py",
      "mimetype": "text/x-python",
      "name": "python",
      "nbconvert_exporter": "python",
      "pygments_lexer": "ipython3",
      "version": "3.8.3"
    },
    "colab": {
      "provenance": [],
      "include_colab_link": true
    }
  },
  "nbformat": 4,
  "nbformat_minor": 0
}