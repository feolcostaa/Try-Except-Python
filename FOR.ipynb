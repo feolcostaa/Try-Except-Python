{
  "cells": [
    {
      "cell_type": "markdown",
      "metadata": {
        "id": "view-in-github",
        "colab_type": "text"
      },
      "source": [
        "<a href=\"https://colab.research.google.com/github/feolcostaa/Try-Except-Python/blob/main/FOR.ipynb\" target=\"_parent\"><img src=\"https://colab.research.google.com/assets/colab-badge.svg\" alt=\"Open In Colab\"/></a>"
      ]
    },
    {
      "cell_type": "markdown",
      "metadata": {
        "id": "F1Ik5NeluJQT"
      },
      "source": [
        "# Exercícios\n",
        "\n",
        "## 1. Criando um Registro de Hóspedes\n",
        "\n",
        "Digamos que você está criando o sistema para registrar a chegada de hóspedes em um hotel. No hotel, os hóspedes podem ter quartos com 1, 2, 3 e 4 pessoas. Seu sistema deve conseguir:\n",
        "\n",
        "1. Identificar quantas pessoas o hóspede que acabou de chegar vai ter no quarto (perguntando por meio de input)\n",
        "2. De acordo com a quantidade de pessoas do hóspede, ele deve fazer um for para perguntar o cpf e o nome de cada pessoa, a fim de registrá-la no quarto (2 inputs para cada pessoa, 1 para o cpf e outro para o nome)\n",
        "3. O seu programa então deve gerar uma lista com todas as pessoas que ficarão no quarto em que cada item dessa lista é o nome da pessoa e o cpf da pessoa, assim:"
      ]
    },
    {
      "cell_type": "raw",
      "metadata": {
        "id": "uigr45bQuJQY"
      },
      "source": [
        "quarto = [\n",
        "    ['João', 'cpf:00000000000'],\n",
        "    ['Julia', 'cpf:11111111111'],\n",
        "    ['Marcus', 'cpf:22222222222'],\n",
        "    ['Maria', 'cpf:33333333333'],\n",
        "]"
      ]
    },
    {
      "cell_type": "markdown",
      "metadata": {
        "id": "D-wNECCEuJQZ"
      },
      "source": [
        "- Para simplificar, não vamos nos preocupar com possibilidades de \"tentar colocar mais de 1 hóspede, digitar o cpf errado, etc. Nosso objetivo é treinar a criação de uma rotina de cadastro"
      ]
    },
    {
      "cell_type": "code",
      "execution_count": null,
      "metadata": {
        "id": "yr8t51J5uJQa",
        "collapsed": true
      },
      "outputs": [],
      "source": [
        "qtd_pessoas = int(input('Insira a quantidade de pessoas no quarto: '))\n",
        "quarto = []\n",
        "for contador in range(qtd_pessoas):\n",
        "    nome = input(f'Insira o nome do {contador + 1}º hóspede: ')\n",
        "    cpf = input(f'Insira o CPF do {contador + 1}º hóspede: ')\n",
        "    quarto += [[nome, cpf]]\n",
        "print(quarto)"
      ]
    },
    {
      "cell_type": "markdown",
      "metadata": {
        "id": "ru8-Q84huJQb"
      },
      "source": [
        "## 2. Análise de Vendas\n",
        "\n",
        "Nesse exercício vamos fazer uma \"análise simples\" de atingimento de Meta.\n",
        "\n",
        "Temos uma lista com os vendedores e os valores de vendas e queremos identificar (printar) quais os vendedores que bateram a meta e qual foi o valor que eles venderam."
      ]
    },
    {
      "cell_type": "code",
      "execution_count": 3,
      "metadata": {
        "id": "k1nxy07JuJQc",
        "outputId": "89d960f3-b4f7-40ed-eede-1e760dd9997f",
        "colab": {
          "base_uri": "https://localhost:8080/"
        }
      },
      "outputs": [
        {
          "output_type": "stream",
          "name": "stdout",
          "text": [
            "['João', 'Julia', 'Ana']\n"
          ]
        }
      ],
      "source": [
        "meta = 10000\n",
        "vendas = [\n",
        "    ['João', 15000],\n",
        "    ['Julia', 27000],\n",
        "    ['Marcus', 9900],\n",
        "    ['Maria', 3750],\n",
        "    ['Ana', 10300],\n",
        "    ['Alon', 7870],\n",
        "]\n",
        "Meta_atingida = []\n",
        "for venda in vendas:\n",
        "    if venda[1] >= meta:\n",
        "        Meta_atingida += [venda[0]]\n",
        "print(Meta_atingida)"
      ]
    },
    {
      "cell_type": "markdown",
      "metadata": {
        "id": "uhaXC5nquJQd"
      },
      "source": [
        "## 3. Comparação com Ano Anterior\n",
        "\n",
        "Digamos que você está analisando as vendas de produtos de um ecommerce e quer identificar quais produtos tiveram no ano de 2020 mais vendas do que no ano de 2019, para reportar isso para a diretoria.\n",
        "\n",
        "Sua resposta pode ser um print de cada produto, qual foi a venda de 2019, a venda de 2020 e o % de crescimento de 2020 para 2019.\n",
        "\n",
        "Lembrando, para calcular o % de crescimento de um produto de um ano para o outro, podemos fazer: (vendas_produto2020/vendas_produto2019 - 1)\n",
        "\n",
        "Dica: lembre do enumerate, ele pode facilitar seu \"for\""
      ]
    },
    {
      "cell_type": "code",
      "execution_count": null,
      "metadata": {
        "id": "MpFmwLlauJQd",
        "outputId": "100d35f4-6dae-4b12-c219-a5c7da7c1796",
        "colab": {
          "base_uri": "https://localhost:8080/"
        }
      },
      "outputs": [
        {
          "output_type": "stream",
          "name": "stdout",
          "text": [
            "iphone vendeu R$558,147 em 2019, R$951,642 em 2020 e teve um crescimento de 70.5%\n",
            "tv vendeu R$405,252 em 2019, R$787,604 em 2020 e teve um crescimento de 94.3%\n",
            "máquina de café vendeu R$718,654 em 2019, R$867,660 em 2020 e teve um crescimento de 20.7%\n",
            "notebook dell vendeu R$422,760 em 2019, R$694,913 em 2020 e teve um crescimento de 64.4%\n",
            "notebook hp vendeu R$154,753 em 2019, R$539,704 em 2020 e teve um crescimento de 248.8%\n",
            "microsoft surface vendeu R$438,508 em 2019, R$667,179 em 2020 e teve um crescimento de 52.1%\n",
            "webcam vendeu R$237,467 em 2019, R$295,633 em 2020 e teve um crescimento de 24.5%\n",
            "caixa de som vendeu R$489,705 em 2019, R$725,316 em 2020 e teve um crescimento de 48.1%\n",
            "microfone vendeu R$328,311 em 2019, R$644,622 em 2020 e teve um crescimento de 96.3%\n",
            "câmera canon vendeu R$591,120 em 2019, R$994,303 em 2020 e teve um crescimento de 68.2%\n"
          ]
        }
      ],
      "source": [
        "produtos = ['iphone', 'galaxy', 'ipad', 'tv', 'máquina de café', 'kindle', 'geladeira', 'adega', 'notebook dell', 'notebook hp', 'notebook asus', 'microsoft surface', 'webcam', 'caixa de som', 'microfone', 'câmera canon']\n",
        "vendas2019 = [558147,712350,573823,405252,718654,531580,973139,892292,422760,154753,887061,438508,237467,489705,328311,591120]\n",
        "vendas2020 = [951642,244295,26964,787604,867660,78830,710331,646016,694913,539704,324831,667179,295633,725316,644622,994303]\n",
        "\n",
        "for i, produto in len(produtos):\n",
        "    if vendas2020[i] > vendas2019[i]:\n",
        "        crescimento = vendas2020[i] / vendas2019[i] - 1\n",
        "        print(f'{produto} vendeu R${vendas2019[i]:,} em 2019, R${vendas2020[i]:,} em 2020 e teve um crescimento de {crescimento:.1%}')"
      ]
    },
    {
      "cell_type": "markdown",
      "source": [
        "4. Contando a Grana da Feira\n",
        "Situação: Você foi na feira comprar frutas. Anote os preços das frutas que comprou:\n",
        "[2.50, 3.00, 1.75, 4.20, 3.30]\n",
        "\n",
        "Desafio: Crie um código que use for para somar o total gasto na feira.\n",
        "\n",
        "\n",
        "\n"
      ],
      "metadata": {
        "id": "9Xp71htWkhc4"
      }
    },
    {
      "cell_type": "code",
      "source": [
        "frutas = [2.50, 3.00, 1.75, 4.20, 3.30]\n",
        "\n",
        "total = 0\n",
        "for fruta in frutas:\n",
        "    total += fruta\n",
        "\n",
        "print(f\"O total gasto na feira foi de R${total:.2f}\")"
      ],
      "metadata": {
        "id": "-j_15TnIkxTg",
        "colab": {
          "base_uri": "https://localhost:8080/"
        },
        "outputId": "dad94a78-b619-4027-dcae-d5f15312d399"
      },
      "execution_count": null,
      "outputs": [
        {
          "output_type": "stream",
          "name": "stdout",
          "text": [
            "O total gasto na feira foi de R$14.75\n"
          ]
        }
      ]
    },
    {
      "cell_type": "markdown",
      "source": [
        "5.Repetindo Senha Segura\n",
        "Situação: Um sistema precisa gerar uma senha segura repetindo uma palavra com um número de vezes definido pelo usuário.\n",
        "\n",
        "Desafio: Peça uma palavra e um número. Use for para repetir a palavra esse número de vezes."
      ],
      "metadata": {
        "id": "80jGocm8kzyY"
      }
    },
    {
      "cell_type": "code",
      "source": [
        "palavra = input(\"Digite uma palavra para sua senha: \")\n",
        "vezes = int(input(\"Insira a quantidade de vezes que irá repetir: \"))\n",
        "\n",
        "for i in range(vezes):\n",
        "    print(palavra, end=\"\")"
      ],
      "metadata": {
        "id": "n4nfuG14k5IH",
        "colab": {
          "base_uri": "https://localhost:8080/"
        },
        "outputId": "b8746410-765b-4db0-cebf-7bbb128ec11a"
      },
      "execution_count": 6,
      "outputs": [
        {
          "output_type": "stream",
          "name": "stdout",
          "text": [
            "Digite uma palavra para sua senha: as\n",
            "Insira a quantidade de vezes que irá repetir: 3\n",
            "as\n",
            "as\n",
            "as\n"
          ]
        }
      ]
    },
    {
      "cell_type": "markdown",
      "source": [
        "6.Contagem Regressiva para o Lançamento\n",
        "Situação: Você trabalha na NASA e precisa fazer a contagem regressiva para o lançamento de um foguete 🚀\n",
        "\n",
        "Desafio: Faça um código que conte de 10 até 0 usando for e no final exiba \"Decolar!\""
      ],
      "metadata": {
        "id": "DAPmtvjUk7Jm"
      }
    },
    {
      "cell_type": "code",
      "source": [
        "for i in range(10, -1, -1):\n",
        "    print(i)\n",
        "print(\"Decolar!\")"
      ],
      "metadata": {
        "id": "ZFz3DRilk_ge",
        "colab": {
          "base_uri": "https://localhost:8080/"
        },
        "outputId": "b9e30b71-83f3-465a-c954-1290307a19be"
      },
      "execution_count": null,
      "outputs": [
        {
          "output_type": "stream",
          "name": "stdout",
          "text": [
            "10\n",
            "9\n",
            "8\n",
            "7\n",
            "6\n",
            "5\n",
            "4\n",
            "3\n",
            "2\n",
            "1\n",
            "0\n",
            "Decolar!\n"
          ]
        }
      ]
    },
    {
      "cell_type": "markdown",
      "source": [
        "7. Lista de Presença da Galera\n",
        "Situação: Você é monitor(a) de uma turma e precisa registrar quem está presente.\n",
        "\n",
        "Desafio: Dada a lista de alunos, use for para exibir cada nome com a mensagem \"presente\"."
      ],
      "metadata": {
        "id": "s7y6sGUElCOu"
      }
    },
    {
      "cell_type": "code",
      "source": [
        "alunos = [\"Ana\", \"Bruno\", \"Carlos\", \"Daniela\", \"Eduardo\"]\n",
        "for aluno in alunos:\n",
        "    print(f\"{aluno} presente\")"
      ],
      "metadata": {
        "id": "Lc0aNUPolEIW",
        "colab": {
          "base_uri": "https://localhost:8080/"
        },
        "outputId": "c11cec8b-6275-403f-f1ae-947e8ba38188"
      },
      "execution_count": null,
      "outputs": [
        {
          "output_type": "stream",
          "name": "stdout",
          "text": [
            "Ana presente\n",
            "Bruno presente\n",
            "Carlos presente\n",
            "Daniela presente\n",
            "Eduardo presente\n"
          ]
        }
      ]
    },
    {
      "cell_type": "markdown",
      "source": [
        "8.  Tabuada Ninja\n",
        "Situação: Seu dojo de matemática quer ensinar tabuada de forma ninja!\n",
        "\n",
        "Desafio: Peça um número ao usuário e use for para exibir a tabuada dele de 1 a 10."
      ],
      "metadata": {
        "id": "I8LK0U30lEfv"
      }
    },
    {
      "cell_type": "code",
      "source": [
        "numero = int(input(\"Digite um número para ver a tabuada: \"))\n",
        "for i in range(1, 11):\n",
        "    print(f\"{numero} x {i} = {numero * i}\")"
      ],
      "metadata": {
        "id": "ObZch2OQlLDO",
        "colab": {
          "base_uri": "https://localhost:8080/"
        },
        "outputId": "f4033503-8436-41dc-83a4-997353ff98f0"
      },
      "execution_count": null,
      "outputs": [
        {
          "output_type": "stream",
          "name": "stdout",
          "text": [
            "Digite um número para ver a tabuada: 5\n",
            "5 x 1 = 5\n",
            "5 x 2 = 10\n",
            "5 x 3 = 15\n",
            "5 x 4 = 20\n",
            "5 x 5 = 25\n",
            "5 x 6 = 30\n",
            "5 x 7 = 35\n",
            "5 x 8 = 40\n",
            "5 x 9 = 45\n",
            "5 x 10 = 50\n"
          ]
        }
      ]
    },
    {
      "cell_type": "markdown",
      "source": [
        "9. Contando Vogais de uma Palavra\n",
        "Situação: Você está criando um jogo de palavras e precisa contar as vogais de uma palavra.\n",
        "\n",
        "Desafio: Peça uma palavra e use for para contar quantas vogais ela tem."
      ],
      "metadata": {
        "id": "5ptueaJ0lNBm"
      }
    },
    {
      "cell_type": "code",
      "source": [],
      "metadata": {
        "id": "9m6anxgQoWXH"
      },
      "execution_count": null,
      "outputs": []
    },
    {
      "cell_type": "code",
      "source": [
        "palavra = input(\"Digite uma palavra: \").lower()\n",
        "contador = 0\n",
        "for letra in palavra:\n",
        "  if letra in ('a', 'e', 'i', 'o', 'u'):\n",
        "    contador += 1\n",
        "print(f'Quantidade de vogais em {palavra} é {contador}.')"
      ],
      "metadata": {
        "id": "Kfp45pC-lQQn",
        "colab": {
          "base_uri": "https://localhost:8080/"
        },
        "outputId": "8bb3b5d7-71bf-415f-e288-f97250874bae"
      },
      "execution_count": 10,
      "outputs": [
        {
          "output_type": "stream",
          "name": "stdout",
          "text": [
            "Digite uma palavra: areio\n",
            "Quantidade de vogais em areio é `4.\n"
          ]
        }
      ]
    },
    {
      "cell_type": "markdown",
      "source": [
        "10. Corrida dos Robôs\n",
        "Situação: Uma corrida de robôs tem 5 voltas. Cada robô registra seu tempo por volta.\n",
        "\n",
        "Desafio: Crie um programa que peça o tempo de cada volta (em segundos), use for para somar o total e diga o tempo total da corrida."
      ],
      "metadata": {
        "id": "L0lbAHILlR4W"
      }
    },
    {
      "cell_type": "code",
      "source": [
        "total = 0\n",
        "for volta in range(1, 6):\n",
        "    tempo = float(input(f\"Tempo da volta {volta}: \"))\n",
        "    total += tempo\n",
        "print(f'Tempo total gasto foi de {total}.')"
      ],
      "metadata": {
        "id": "rFikI7sTlWM_"
      },
      "execution_count": null,
      "outputs": []
    },
    {
      "cell_type": "markdown",
      "source": [
        "🍭 Desafio Final: Fábrica de Pirulitos\n",
        "🏭 Situação-problema:\n",
        "\n",
        "Você foi contratado(a) por uma fábrica de pirulitos para desenvolver um sistema que simule a produção do dia.\n",
        "Cada pirulito produzido é representado por um emoji 🍭.\n",
        "\n",
        "🛠️ Regras:\n",
        "O usuário informa quantos pirulitos foram produzidos em cada hora do expediente (8 horas de trabalho).\n",
        "\n",
        "Use um laço for para:\n",
        "\n",
        "Pedir a quantidade de pirulitos de cada hora.\n",
        "\n",
        "Exibir uma “barrinha de produção” visual com 🍭 repetidos."
      ],
      "metadata": {
        "id": "lwfkl5ZjlX43"
      }
    },
    {
      "cell_type": "code",
      "source": [
        "for hora in range(1, 9):\n",
        "    qtd = int(input(f\"Quantos pirulitos foram feitos na hora {hora}? \"))\n",
        "    print(f\"Hora {hora}: \" + \"🍭\" * qtd)"
      ],
      "metadata": {
        "id": "DzhHZfFvlvle",
        "colab": {
          "base_uri": "https://localhost:8080/",
          "height": 228
        },
        "outputId": "c5d9be8f-8651-4061-a1cd-464b1bf892d4"
      },
      "execution_count": 12,
      "outputs": [
        {
          "name": "stdout",
          "output_type": "stream",
          "text": [
            "Quantos pirulitos foram feitos na hora 1? 1\n",
            "Hora 1: 🍭\n",
            "Quantos pirulitos foram feitos na hora 2? \n"
          ]
        },
        {
          "output_type": "error",
          "ename": "ValueError",
          "evalue": "invalid literal for int() with base 10: ''",
          "traceback": [
            "\u001b[0;31m---------------------------------------------------------------------------\u001b[0m",
            "\u001b[0;31mValueError\u001b[0m                                Traceback (most recent call last)",
            "\u001b[0;32m<ipython-input-12-a666fb115123>\u001b[0m in \u001b[0;36m<cell line: 0>\u001b[0;34m()\u001b[0m\n\u001b[1;32m      1\u001b[0m \u001b[0;32mfor\u001b[0m \u001b[0mhora\u001b[0m \u001b[0;32min\u001b[0m \u001b[0mrange\u001b[0m\u001b[0;34m(\u001b[0m\u001b[0;36m1\u001b[0m\u001b[0;34m,\u001b[0m \u001b[0;36m9\u001b[0m\u001b[0;34m)\u001b[0m\u001b[0;34m:\u001b[0m\u001b[0;34m\u001b[0m\u001b[0;34m\u001b[0m\u001b[0m\n\u001b[0;32m----> 2\u001b[0;31m     \u001b[0mqtd\u001b[0m \u001b[0;34m=\u001b[0m \u001b[0mint\u001b[0m\u001b[0;34m(\u001b[0m\u001b[0minput\u001b[0m\u001b[0;34m(\u001b[0m\u001b[0;34mf\"Quantos pirulitos foram feitos na hora {hora}? \"\u001b[0m\u001b[0;34m)\u001b[0m\u001b[0;34m)\u001b[0m\u001b[0;34m\u001b[0m\u001b[0;34m\u001b[0m\u001b[0m\n\u001b[0m\u001b[1;32m      3\u001b[0m     \u001b[0mprint\u001b[0m\u001b[0;34m(\u001b[0m\u001b[0;34mf\"Hora {hora}: \"\u001b[0m \u001b[0;34m+\u001b[0m \u001b[0;34m\"🍭\"\u001b[0m \u001b[0;34m*\u001b[0m \u001b[0mqtd\u001b[0m\u001b[0;34m)\u001b[0m\u001b[0;34m\u001b[0m\u001b[0;34m\u001b[0m\u001b[0m\n",
            "\u001b[0;31mValueError\u001b[0m: invalid literal for int() with base 10: ''"
          ]
        }
      ]
    }
  ],
  "metadata": {
    "kernelspec": {
      "display_name": "Python 3",
      "language": "python",
      "name": "python3"
    },
    "language_info": {
      "codemirror_mode": {
        "name": "ipython",
        "version": 3
      },
      "file_extension": ".py",
      "mimetype": "text/x-python",
      "name": "python",
      "nbconvert_exporter": "python",
      "pygments_lexer": "ipython3",
      "version": "3.8.3"
    },
    "colab": {
      "provenance": [],
      "include_colab_link": true
    }
  },
  "nbformat": 4,
  "nbformat_minor": 0
}